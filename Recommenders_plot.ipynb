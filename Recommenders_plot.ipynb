{
 "cells": [
  {
   "attachments": {},
   "cell_type": "markdown",
   "id": "08ba8b15",
   "metadata": {},
   "source": [
    "$\\textbf{Content base Recommender System}$"
   ]
  },
  {
   "cell_type": "code",
   "execution_count": 1,
   "id": "9ecf1af4",
   "metadata": {},
   "outputs": [
    {
     "data": {
      "text/plain": [
       "array([3, 5, 6])"
      ]
     },
     "execution_count": 1,
     "metadata": {},
     "output_type": "execute_result"
    }
   ],
   "source": [
    "import numpy as np\n",
    "# Create score matrix for movies 1,2,3 for example 3,5,6\n",
    "Score= np.array([3, 5, 6])\n",
    "Score"
   ]
  },
  {
   "cell_type": "code",
   "execution_count": 2,
   "id": "261ede35",
   "metadata": {},
   "outputs": [
    {
     "data": {
      "text/plain": [
       "array([[1, 1, 0],\n",
       "       [1, 1, 1],\n",
       "       [1, 0, 1]])"
      ]
     },
     "execution_count": 2,
     "metadata": {},
     "output_type": "execute_result"
    }
   ],
   "source": [
    "# Create genre matrix for 3 movies \n",
    "Genre= np.array([[1,1,0],[1,1,1],[1,0,1]])\n",
    "Genre"
   ]
  },
  {
   "cell_type": "code",
   "execution_count": 3,
   "id": "80b90c8f",
   "metadata": {},
   "outputs": [
    {
     "data": {
      "text/plain": [
       "array([14,  8, 11])"
      ]
     },
     "execution_count": 3,
     "metadata": {},
     "output_type": "execute_result"
    }
   ],
   "source": [
    "taste=Score @ Genre\n",
    "taste"
   ]
  },
  {
   "cell_type": "code",
   "execution_count": 4,
   "id": "4d0cd069",
   "metadata": {},
   "outputs": [],
   "source": [
    "s = taste.sum()"
   ]
  },
  {
   "cell_type": "code",
   "execution_count": 5,
   "id": "4aba88e7",
   "metadata": {},
   "outputs": [
    {
     "data": {
      "text/plain": [
       "array([42.42424242, 24.24242424, 33.33333333])"
      ]
     },
     "execution_count": 5,
     "metadata": {},
     "output_type": "execute_result"
    }
   ],
   "source": [
    "Taste_percent = (taste/s)*100\n",
    "Taste_percent"
   ]
  },
  {
   "cell_type": "code",
   "execution_count": 6,
   "id": "550695f3",
   "metadata": {},
   "outputs": [
    {
     "data": {
      "text/plain": [
       "42.42424242424242"
      ]
     },
     "execution_count": 6,
     "metadata": {},
     "output_type": "execute_result"
    }
   ],
   "source": [
    "max(Taste_percent)"
   ]
  },
  {
   "cell_type": "code",
   "execution_count": 7,
   "id": "eaf7aacb",
   "metadata": {},
   "outputs": [
    {
     "data": {
      "text/plain": [
       "array([24.24242424, 33.33333333, 42.42424242])"
      ]
     },
     "execution_count": 7,
     "metadata": {},
     "output_type": "execute_result"
    }
   ],
   "source": [
    "np.sort(Taste_percent )"
   ]
  },
  {
   "attachments": {},
   "cell_type": "markdown",
   "id": "63860f7d",
   "metadata": {},
   "source": [
    "$\\textbf{How to Calculate Cosine Similarity }$"
   ]
  },
  {
   "cell_type": "code",
   "execution_count": 8,
   "id": "8ba36590",
   "metadata": {},
   "outputs": [
    {
     "name": "stdout",
     "output_type": "stream",
     "text": [
      "Cosine Similarity: 0.8188504723485274\n"
     ]
    }
   ],
   "source": [
    "import numpy as np\n",
    "from numpy.linalg import norm\n",
    "\n",
    "# define two array\n",
    "A = np.array([2, 1, 2, 3, 2, 9])\n",
    "B = np.array([3, 4, 2, 4, 5, 5])\n",
    "\n",
    "# compute cosine similarity\n",
    "cosine = np.dot(A,B)/(norm(A)*norm(B))\n",
    "print(\"Cosine Similarity:\", cosine)\n"
   ]
  },
  {
   "cell_type": "code",
   "execution_count": 4,
   "id": "e2e755cd",
   "metadata": {},
   "outputs": [
    {
     "name": "stdout",
     "output_type": "stream",
     "text": [
      "[[ 0  0  0  0  0  0  0  0  0  0  0  0  0  0  0]\n",
      " [ 0  1  0  0  0  0  0  0  0  0  0  0  0  0  0]\n",
      " [ 0  0  2  0  0  0  0  0  0  0  0  0  0  0  0]\n",
      " [ 0  0  0  3  0  0  0  0  0  0  0  0  0  0  0]\n",
      " [ 0  0  0  0  4  0  0  0  0  0  0  0  0  0  0]\n",
      " [ 0  0  0  0  0  5  0  0  0  0  0  0  0  0  0]\n",
      " [ 0  0  0  0  0  0  6  0  0  0  0  0  0  0  0]\n",
      " [ 0  0  0  0  0  0  0  7  0  0  0  0  0  0  0]\n",
      " [ 0  0  0  0  0  0  0  0  8  0  0  0  0  0  0]\n",
      " [ 0  0  0  0  0  0  0  0  0  9  0  0  0  0  0]\n",
      " [ 0  0  0  0  0  0  0  0  0  0 10  0  0  0  0]\n",
      " [ 0  0  0  0  0  0  0  0  0  0  0 11  0  0  0]\n",
      " [ 0  0  0  0  0  0  0  0  0  0  0  0 12  0  0]\n",
      " [ 0  0  0  0  0  0  0  0  0  0  0  0  0 13  0]\n",
      " [ 0  0  0  0  0  0  0  0  0  0  0  0  0  0 14]]\n"
     ]
    },
    {
     "data": {
      "image/png": "[encoded data removed]",
      "text/plain": [
       "<Figure size 480x480 with 1 Axes>"
      ]
     },
     "metadata": {},
     "output_type": "display_data"
    }
   ],
   "source": [
    "import matplotlib.pyplot as plt\n",
    "import numpy as np\n",
    "\n",
    "# a 2D array with linearly increasing values on the diagonal\n",
    "a = np.diag(range(15))\n",
    "print(a)\n",
    "plt.matshow(a)\n",
    "\n",
    "plt.show()"
   ]
  },
  {
   "cell_type": "code",
   "execution_count": 5,
   "id": "ba18d936",
   "metadata": {},
   "outputs": [
    {
     "data": {
      "image/png": "[encoded data removed]",
      "text/plain": [
       "<Figure size 480x480 with 1 Axes>"
      ]
     },
     "metadata": {},
     "output_type": "display_data"
    }
   ],
   "source": [
    "import numpy as np\n",
    "# Create score matrix for movies 1,2,3 for example 3,5,6\n",
    "Score_1= np.array([3, 5, 6])\n",
    "Score_2= np.array([6, 2, 1])\n",
    "Score_3= np.array([7, 2, 10])\n",
    "Genre= np.array([[1,1,0],[1,1,1],[1,0,1]])\n",
    "taste_1=Score_1 @ Genre\n",
    "taste_2=Score_2 @ Genre\n",
    "taste_3=Score_3 @ Genre\n",
    "\n",
    "Taste_percent_1 = (taste_1/(taste_1.sum()))*100\n",
    "Taste_percent_2= (taste_2/(taste_2.sum()))*100\n",
    "Taste_percent_3= (taste_3/(taste_3.sum()))*100\n",
    "Matrix=np.array([Taste_percent_1,Taste_percent_1,Taste_percent_1])\n",
    "\n",
    "plt.matshow(Matrix)\n",
    "plt.show()\n"
   ]
  },
  {
   "cell_type": "code",
   "execution_count": null,
   "id": "dc9a7877",
   "metadata": {},
   "outputs": [],
   "source": []
  }
 ],
 "metadata": {
  "kernelspec": {
   "display_name": "Python 3 (ipykernel)",
   "language": "python",
   "name": "python3"
  },
  "language_info": {
   "codemirror_mode": {
    "name": "ipython",
    "version": 3
   },
   "file_extension": ".py",
   "mimetype": "text/x-python",
   "name": "python",
   "nbconvert_exporter": "python",
   "pygments_lexer": "ipython3",
   "version": "3.10.11"
  }
 },
 "nbformat": 4,
 "nbformat_minor": 5
}
