{
 "cells": [
  {
   "attachments": {},
   "cell_type": "markdown",
   "id": "08ba8b15",
   "metadata": {},
   "source": [
    "$\\textbf{Content base Recommender System}$"
   ]
  },
  {
   "cell_type": "code",
   "execution_count": 22,
   "id": "9ecf1af4",
   "metadata": {},
   "outputs": [
    {
     "data": {
      "text/plain": [
       "array([3, 5, 6])"
      ]
     },
     "execution_count": 22,
     "metadata": {},
     "output_type": "execute_result"
    }
   ],
   "source": [
    "import numpy as np\n",
    "# Create score matrix for movies 1,2,3 for example 3,5,6\n",
    "Score= np.array([3, 5, 6])\n",
    "Score"
   ]
  },
  {
   "cell_type": "code",
   "execution_count": 23,
   "id": "261ede35",
   "metadata": {},
   "outputs": [
    {
     "data": {
      "text/plain": [
       "array([[1, 1, 0],\n",
       "       [1, 1, 1],\n",
       "       [1, 0, 1]])"
      ]
     },
     "execution_count": 23,
     "metadata": {},
     "output_type": "execute_result"
    }
   ],
   "source": [
    "# Create genre matrix for movies \n",
    "Genre= np.array([[1,1,0],[1,1,1],[1,0,1]])\n",
    "Genre"
   ]
  },
  {
   "cell_type": "code",
   "execution_count": 24,
   "id": "80b90c8f",
   "metadata": {},
   "outputs": [
    {
     "data": {
      "text/plain": [
       "array([14,  8, 11])"
      ]
     },
     "execution_count": 24,
     "metadata": {},
     "output_type": "execute_result"
    }
   ],
   "source": [
    "taste=Score @ Genre\n",
    "taste"
   ]
  },
  {
   "cell_type": "code",
   "execution_count": 25,
   "id": "4d0cd069",
   "metadata": {},
   "outputs": [],
   "source": [
    "s = taste.sum()"
   ]
  },
  {
   "cell_type": "code",
   "execution_count": 27,
   "id": "4aba88e7",
   "metadata": {},
   "outputs": [
    {
     "data": {
      "text/plain": [
       "array([42.42424242, 24.24242424, 33.33333333])"
      ]
     },
     "execution_count": 27,
     "metadata": {},
     "output_type": "execute_result"
    }
   ],
   "source": [
    "Taste_percent = (taste/s)*100\n",
    "Taste_percent"
   ]
  },
  {
   "cell_type": "code",
   "execution_count": 28,
   "id": "550695f3",
   "metadata": {},
   "outputs": [
    {
     "data": {
      "text/plain": [
       "42.42424242424242"
      ]
     },
     "execution_count": 28,
     "metadata": {},
     "output_type": "execute_result"
    }
   ],
   "source": [
    "max(Taste_percent)"
   ]
  },
  {
   "cell_type": "code",
   "execution_count": 35,
   "id": "eaf7aacb",
   "metadata": {},
   "outputs": [
    {
     "data": {
      "text/plain": [
       "array([24.24242424, 33.33333333, 42.42424242])"
      ]
     },
     "execution_count": 35,
     "metadata": {},
     "output_type": "execute_result"
    }
   ],
   "source": [
    "np.sort(Taste_percent )"
   ]
  },
  {
   "attachments": {},
   "cell_type": "markdown",
   "id": "63860f7d",
   "metadata": {},
   "source": [
    "$\\textbf{How to Calculate Cosine Similarity }$"
   ]
  },
  {
   "cell_type": "code",
   "execution_count": 37,
   "id": "8ba36590",
   "metadata": {},
   "outputs": [
    {
     "name": "stdout",
     "output_type": "stream",
     "text": [
      "Cosine Similarity: 0.8188504723485274\n"
     ]
    },
    {
     "ename": "",
     "evalue": "",
     "output_type": "error",
     "traceback": [
      "\u001b[1;31mThe Kernel crashed while executing code in the the current cell or a previous cell. Please review the code in the cell(s) to identify a possible cause of the failure. Click <a href='https://aka.ms/vscodeJupyterKernelCrash'>here</a> for more info. View Jupyter <a href='command:jupyter.viewOutput'>log</a> for further details."
     ]
    }
   ],
   "source": [
    "import numpy as np\n",
    "from numpy.linalg import norm\n",
    "\n",
    "# define two array\n",
    "A = np.array([2, 1, 2, 3, 2, 9])\n",
    "B = np.array([3, 4, 2, 4, 5, 5])\n",
    "\n",
    "# compute cosine similarity\n",
    "cosine = np.dot(A,B)/(norm(A)*norm(B))\n",
    "print(\"Cosine Similarity:\", cosine)\n"
   ]
  },
  {
   "cell_type": "code",
   "execution_count": null,
   "id": "e2e755cd",
   "metadata": {},
   "outputs": [],
   "source": []
  }
 ],
 "metadata": {
  "kernelspec": {
   "display_name": "Python 3 (ipykernel)",
   "language": "python",
   "name": "python3"
  },
  "language_info": {
   "codemirror_mode": {
    "name": "ipython",
    "version": 3
   },
   "file_extension": ".py",
   "mimetype": "text/x-python",
   "name": "python",
   "nbconvert_exporter": "python",
   "pygments_lexer": "ipython3",
   "version": "3.10.11"
  }
 },
 "nbformat": 4,
 "nbformat_minor": 5
}
